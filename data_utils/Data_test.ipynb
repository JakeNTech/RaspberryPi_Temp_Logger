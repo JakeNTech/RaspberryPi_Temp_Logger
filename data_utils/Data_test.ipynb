{
 "cells": [
  {
   "cell_type": "code",
   "execution_count": 2,
   "id": "95bd3eaa",
   "metadata": {},
   "outputs": [],
   "source": [
    "import pandas as pd\n",
    "import matplotlib.pyplot as plt\n",
    "plt.rcParams[\"figure.figsize\"] = (20,10)"
   ]
  },
  {
   "cell_type": "code",
   "execution_count": 7,
   "id": "cf2dad65",
   "metadata": {
    "scrolled": true
   },
   "outputs": [
    {
     "data": {
      "text/html": [
       "<div>\n",
       "<style scoped>\n",
       "    .dataframe tbody tr th:only-of-type {\n",
       "        vertical-align: middle;\n",
       "    }\n",
       "\n",
       "    .dataframe tbody tr th {\n",
       "        vertical-align: top;\n",
       "    }\n",
       "\n",
       "    .dataframe thead th {\n",
       "        text-align: right;\n",
       "    }\n",
       "</style>\n",
       "<table border=\"1\" class=\"dataframe\">\n",
       "  <thead>\n",
       "    <tr style=\"text-align: right;\">\n",
       "      <th></th>\n",
       "      <th>Date/Time</th>\n",
       "      <th>Temperature(Outdoor)</th>\n",
       "      <th>Humidity(Outdoor)(%)</th>\n",
       "      <th>Temperature(Indoor)</th>\n",
       "      <th>Humidity(Indoor)(%)</th>\n",
       "    </tr>\n",
       "  </thead>\n",
       "  <tbody>\n",
       "    <tr>\n",
       "      <th>0</th>\n",
       "      <td>2022-07-17 12:44:35</td>\n",
       "      <td>31.1</td>\n",
       "      <td>36.7</td>\n",
       "      <td>31.1</td>\n",
       "      <td>36.7</td>\n",
       "    </tr>\n",
       "    <tr>\n",
       "      <th>1</th>\n",
       "      <td>2022-07-17 12:44:40</td>\n",
       "      <td>30.9</td>\n",
       "      <td>36.6</td>\n",
       "      <td>30.9</td>\n",
       "      <td>36.6</td>\n",
       "    </tr>\n",
       "    <tr>\n",
       "      <th>2</th>\n",
       "      <td>2022-07-17 12:44:45</td>\n",
       "      <td>30.8</td>\n",
       "      <td>36.7</td>\n",
       "      <td>30.8</td>\n",
       "      <td>36.7</td>\n",
       "    </tr>\n",
       "    <tr>\n",
       "      <th>3</th>\n",
       "      <td>2022-07-17 12:44:51</td>\n",
       "      <td>30.8</td>\n",
       "      <td>36.5</td>\n",
       "      <td>30.8</td>\n",
       "      <td>36.5</td>\n",
       "    </tr>\n",
       "    <tr>\n",
       "      <th>4</th>\n",
       "      <td>2022-07-17 12:44:56</td>\n",
       "      <td>30.8</td>\n",
       "      <td>36.6</td>\n",
       "      <td>30.8</td>\n",
       "      <td>36.6</td>\n",
       "    </tr>\n",
       "  </tbody>\n",
       "</table>\n",
       "</div>"
      ],
      "text/plain": [
       "            Date/Time  Temperature(Outdoor)  Humidity(Outdoor)(%)  \\\n",
       "0 2022-07-17 12:44:35                  31.1                  36.7   \n",
       "1 2022-07-17 12:44:40                  30.9                  36.6   \n",
       "2 2022-07-17 12:44:45                  30.8                  36.7   \n",
       "3 2022-07-17 12:44:51                  30.8                  36.5   \n",
       "4 2022-07-17 12:44:56                  30.8                  36.6   \n",
       "\n",
       "   Temperature(Indoor)  Humidity(Indoor)(%)  \n",
       "0                 31.1                 36.7  \n",
       "1                 30.9                 36.6  \n",
       "2                 30.8                 36.7  \n",
       "3                 30.8                 36.5  \n",
       "4                 30.8                 36.6  "
      ]
     },
     "execution_count": 7,
     "metadata": {},
     "output_type": "execute_result"
    }
   ],
   "source": [
    "df = pd.read_csv(\"./test.csv\")\n",
    "#df = pd.read_csv(\"./Output.csv\")\n",
    "# Drop readings that failed\n",
    "df = df.dropna()\n",
    "# Convert Date time to one that will work with PyPlot\n",
    "df[\"Date/Time\"] = pd.to_datetime(df[\"Date/Time\"])\n",
    "df.head()"
   ]
  },
  {
   "cell_type": "code",
   "execution_count": 8,
   "id": "be703bf0",
   "metadata": {},
   "outputs": [
    {
     "data": {
      "text/html": [
       "<div>\n",
       "<style scoped>\n",
       "    .dataframe tbody tr th:only-of-type {\n",
       "        vertical-align: middle;\n",
       "    }\n",
       "\n",
       "    .dataframe tbody tr th {\n",
       "        vertical-align: top;\n",
       "    }\n",
       "\n",
       "    .dataframe thead th {\n",
       "        text-align: right;\n",
       "    }\n",
       "</style>\n",
       "<table border=\"1\" class=\"dataframe\">\n",
       "  <thead>\n",
       "    <tr style=\"text-align: right;\">\n",
       "      <th></th>\n",
       "      <th>Date/Time</th>\n",
       "      <th>Temperature(Outdoor)</th>\n",
       "      <th>Humidity(Outdoor)(%)</th>\n",
       "      <th>Temperature(Indoor)</th>\n",
       "      <th>Humidity(Indoor)(%)</th>\n",
       "    </tr>\n",
       "  </thead>\n",
       "  <tbody>\n",
       "    <tr>\n",
       "      <th>0</th>\n",
       "      <td>2022-07-17 12:44:35</td>\n",
       "      <td>31.1</td>\n",
       "      <td>36.7</td>\n",
       "      <td>31.1</td>\n",
       "      <td>36.7</td>\n",
       "    </tr>\n",
       "    <tr>\n",
       "      <th>1</th>\n",
       "      <td>2022-07-17 12:44:40</td>\n",
       "      <td>30.9</td>\n",
       "      <td>36.6</td>\n",
       "      <td>30.9</td>\n",
       "      <td>36.6</td>\n",
       "    </tr>\n",
       "    <tr>\n",
       "      <th>2</th>\n",
       "      <td>2022-07-17 12:44:45</td>\n",
       "      <td>30.8</td>\n",
       "      <td>36.7</td>\n",
       "      <td>30.8</td>\n",
       "      <td>36.7</td>\n",
       "    </tr>\n",
       "    <tr>\n",
       "      <th>3</th>\n",
       "      <td>2022-07-17 12:44:51</td>\n",
       "      <td>30.8</td>\n",
       "      <td>36.5</td>\n",
       "      <td>30.8</td>\n",
       "      <td>36.5</td>\n",
       "    </tr>\n",
       "    <tr>\n",
       "      <th>4</th>\n",
       "      <td>2022-07-17 12:44:56</td>\n",
       "      <td>30.8</td>\n",
       "      <td>36.6</td>\n",
       "      <td>30.8</td>\n",
       "      <td>36.6</td>\n",
       "    </tr>\n",
       "  </tbody>\n",
       "</table>\n",
       "</div>"
      ],
      "text/plain": [
       "            Date/Time  Temperature(Outdoor)  Humidity(Outdoor)(%)  \\\n",
       "0 2022-07-17 12:44:35                  31.1                  36.7   \n",
       "1 2022-07-17 12:44:40                  30.9                  36.6   \n",
       "2 2022-07-17 12:44:45                  30.8                  36.7   \n",
       "3 2022-07-17 12:44:51                  30.8                  36.5   \n",
       "4 2022-07-17 12:44:56                  30.8                  36.6   \n",
       "\n",
       "   Temperature(Indoor)  Humidity(Indoor)(%)  \n",
       "0                 31.1                 36.7  \n",
       "1                 30.9                 36.6  \n",
       "2                 30.8                 36.7  \n",
       "3                 30.8                 36.5  \n",
       "4                 30.8                 36.6  "
      ]
     },
     "execution_count": 8,
     "metadata": {},
     "output_type": "execute_result"
    }
   ],
   "source": [
    "start_date = \"2022-07-17\"\n",
    "end_date = \"2022-07-18\"\n",
    "mask = (df[\"Date/Time\"] > start_date) & (df[\"Date/Time\"] <= end_date)\n",
    "df = df.loc[mask]\n",
    "df.head()"
   ]
  },
  {
   "cell_type": "code",
   "execution_count": 12,
   "id": "a1413712",
   "metadata": {},
   "outputs": [],
   "source": [
    "avg_indoor_temp = df[\"Temperature(Indoor)\"].mean()\n",
    "avg_ourdoor_temp = df[\"Temperature(Outdoor)\"].mean()\n",
    "avg_indoor_humid = df[\"Humidity(Indoor)(%)\"].mean()\n",
    "avg_ourdoor_humid = df[\"Humidity(Outdoor)(%)\"].mean()"
   ]
  },
  {
   "cell_type": "code",
   "execution_count": 13,
   "id": "d4a493de",
   "metadata": {},
   "outputs": [
    {
     "data": {
      "text/plain": [
       "32.8"
      ]
     },
     "execution_count": 13,
     "metadata": {},
     "output_type": "execute_result"
    }
   ],
   "source": [
    "df[\"Temperature(Indoor)\"].max()"
   ]
  },
  {
   "cell_type": "code",
   "execution_count": 14,
   "id": "2ba58b12",
   "metadata": {},
   "outputs": [
    {
     "data": {
      "text/plain": [
       "20.3"
      ]
     },
     "execution_count": 14,
     "metadata": {},
     "output_type": "execute_result"
    }
   ],
   "source": [
    "df[\"Temperature(Indoor)\"].min()"
   ]
  }
 ],
 "metadata": {
  "kernelspec": {
   "display_name": "Python 3 (ipykernel)",
   "language": "python",
   "name": "python3"
  },
  "language_info": {
   "codemirror_mode": {
    "name": "ipython",
    "version": 3
   },
   "file_extension": ".py",
   "mimetype": "text/x-python",
   "name": "python",
   "nbconvert_exporter": "python",
   "pygments_lexer": "ipython3",
   "version": "3.9.2"
  }
 },
 "nbformat": 4,
 "nbformat_minor": 5
}
